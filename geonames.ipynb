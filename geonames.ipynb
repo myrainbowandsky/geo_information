{
 "cells": [
  {
   "cell_type": "code",
   "execution_count": 5,
   "id": "4269613b-e4e8-40a7-a689-528f5f5df4b8",
   "metadata": {},
   "outputs": [
    {
     "name": "stdout",
     "output_type": "stream",
     "text": [
      "Requirement already satisfied: geopy in /Users/lawrencexu/anaconda3/envs/wenlu/lib/python3.10/site-packages (2.4.0)\n",
      "Requirement already satisfied: geographiclib<3,>=1.52 in /Users/lawrencexu/anaconda3/envs/wenlu/lib/python3.10/site-packages (from geopy) (2.0)\n",
      "Note: you may need to restart the kernel to use updated packages.\n"
     ]
    }
   ],
   "source": [
    "pip install geopy"
   ]
  },
  {
   "cell_type": "code",
   "execution_count": 8,
   "id": "f2c6467a-19d5-4c71-9f81-04698035e5d6",
   "metadata": {},
   "outputs": [],
   "source": [
    "#pip install pandas"
   ]
  },
  {
   "cell_type": "code",
   "execution_count": null,
   "id": "24cf671b-b31c-4c80-a861-142aaf9062a4",
   "metadata": {},
   "outputs": [],
   "source": [
    "#pip install tqdm"
   ]
  },
  {
   "cell_type": "code",
   "execution_count": null,
   "id": "48fe4624-f635-4c0e-82a5-646cee8ad6de",
   "metadata": {},
   "outputs": [],
   "source": [
    "from geopy.geocoders import Nominatim\n",
    "from geopy.extra.rate_limiter import RateLimiter\n",
    "from functools import partial\n",
    "from tqdm import tqdm\n",
    "tqdm.pandas(desc='my bar')\n",
    "geolocator = Nominatim(domain='geocode.maps.co',user_agent='myGeocoder') #user agent can be any user agent \n",
    "location = RateLimiter(geolocator.geocode,min_delay_seconds=2)"
   ]
  },
  {
   "cell_type": "code",
   "execution_count": null,
   "id": "f9ae3c0d-00f7-4cf2-84f7-f76e48139d0f",
   "metadata": {},
   "outputs": [],
   "source": [
    "import pandas as pd\n",
    "\n",
    "df = pd.read_csv('https://datahub.io/core/world-cities/r/world-cities.csv')"
   ]
  },
  {
   "cell_type": "code",
   "execution_count": null,
   "id": "e27e1610-e05c-47fe-9200-ace3c099a0a9",
   "metadata": {},
   "outputs": [],
   "source": [
    "df=df[df['country'].str.contains('United States')]"
   ]
  },
  {
   "cell_type": "code",
   "execution_count": null,
   "id": "174881fb-3dfe-47d7-8456-f71f8ba5a29a",
   "metadata": {},
   "outputs": [],
   "source": [
    "ndf=df[0:15]"
   ]
  },
  {
   "cell_type": "code",
   "execution_count": null,
   "id": "59016e7c-b3f3-4415-99ab-1c18c6133ef5",
   "metadata": {},
   "outputs": [],
   "source": [
    "ndf"
   ]
  },
  {
   "cell_type": "code",
   "execution_count": null,
   "id": "aac06963-718f-4987-8d2e-b4b20e1b90c1",
   "metadata": {},
   "outputs": [],
   "source": [
    "ndf['state']=ndf['name'].progress_apply(partial(location,language=\"en\",country_codes='us'))"
   ]
  },
  {
   "cell_type": "code",
   "execution_count": null,
   "id": "8d93b75a-1fe8-4d57-b2b1-5c19786ad66e",
   "metadata": {},
   "outputs": [],
   "source": [
    "ndf['state'][19736]"
   ]
  },
  {
   "cell_type": "code",
   "execution_count": null,
   "id": "18c489cd-4ccc-4fd0-93fd-9ca24a6fbc2d",
   "metadata": {},
   "outputs": [],
   "source": [
    "ndf['state'][19736].address"
   ]
  },
  {
   "cell_type": "code",
   "execution_count": null,
   "id": "f8459a31-9051-4c86-8cd9-9c095bf0c598",
   "metadata": {},
   "outputs": [],
   "source": [
    "ndf['state'][19736].address.split(', ')"
   ]
  },
  {
   "cell_type": "code",
   "execution_count": null,
   "id": "82bd5ab9-f890-4c66-ad09-e22de208ee11",
   "metadata": {},
   "outputs": [],
   "source": []
  },
  {
   "cell_type": "code",
   "execution_count": null,
   "id": "a4405778-1fc4-4f77-96fd-3be880866a7a",
   "metadata": {},
   "outputs": [],
   "source": [
    "states=pd.read_csv('states.csv')"
   ]
  },
  {
   "cell_type": "code",
   "execution_count": null,
   "id": "74b31552-6e8c-4d1f-8cfe-608fa7c27ae2",
   "metadata": {},
   "outputs": [],
   "source": [
    "States = states['State'].tolist()"
   ]
  },
  {
   "cell_type": "code",
   "execution_count": null,
   "id": "f68917bc-bfa2-4cdf-be7b-8bb10ebb1e77",
   "metadata": {},
   "outputs": [],
   "source": [
    "def return_state(_address_object):\n",
    "    return [x for x in _address_object.address.split(', ') if x in States][0]"
   ]
  },
  {
   "cell_type": "code",
   "execution_count": null,
   "id": "147a7440-9055-42bc-8eea-8e57e0245084",
   "metadata": {},
   "outputs": [],
   "source": [
    "ndf"
   ]
  },
  {
   "cell_type": "code",
   "execution_count": null,
   "id": "9a23c224-ac0d-4097-84eb-9df5f30e5823",
   "metadata": {},
   "outputs": [],
   "source": [
    "ndf['state']=ndf['state'].progress_apply(lambda x: return_state(x))"
   ]
  },
  {
   "cell_type": "code",
   "execution_count": null,
   "id": "aa721d12-be52-4653-861c-07feada15903",
   "metadata": {},
   "outputs": [],
   "source": [
    "ndf.to_csv"
   ]
  },
  {
   "cell_type": "code",
   "execution_count": null,
   "id": "db2fe28d-5025-4050-a711-e53d225496b0",
   "metadata": {},
   "outputs": [],
   "source": []
  }
 ],
 "metadata": {
  "kernelspec": {
   "display_name": "Python 3 (ipykernel)",
   "language": "python",
   "name": "python3"
  },
  "language_info": {
   "codemirror_mode": {
    "name": "ipython",
    "version": 3
   },
   "file_extension": ".py",
   "mimetype": "text/x-python",
   "name": "python",
   "nbconvert_exporter": "python",
   "pygments_lexer": "ipython3",
   "version": "3.10.13"
  }
 },
 "nbformat": 4,
 "nbformat_minor": 5
}

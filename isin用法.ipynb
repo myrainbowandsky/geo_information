{
 "cells": [
  {
   "cell_type": "code",
   "execution_count": 21,
   "id": "047182e6-3b98-42d2-b90b-b1fdf349e48b",
   "metadata": {},
   "outputs": [],
   "source": [
    "import pandas as pd\n",
    "\n",
    "df=pd.read_csv('../shared/left_position.csv') # 换用真实的作图数据代替数据\n",
    "\n",
    "repub='''Alabama, Alaska, Arkansas, Idaho, Indiana, Iowa, Kansas, Kentucky, Louisiana, Mississippi, Missouri, Montana, Nebraska, North Dakota, Oklahoma, South Carolina, South Dakota, Tennessee, Texas, Utah, West Virginia, Wyoming'''\n",
    "\n",
    "repub=repub.split(', ')\n",
    "\n",
    "dema='''Arizona, Florida, Georgia, Michigan, Minnesota, Nevada, North Carolina, Ohio, Pennsylvania, Wisconsin'''\n",
    "\n",
    "dema=dema.split(', ')\n",
    "\n",
    "df[df['state'].isin(repub)].shape[0] #共和党\n",
    "\n",
    "df[df['state'].isin(dema)].shape[0] #民主党"
   ]
  },
  {
   "cell_type": "code",
   "execution_count": null,
   "id": "b1893b6f-4e5c-4eb9-b70f-ae6aa6a423ed",
   "metadata": {},
   "outputs": [],
   "source": []
  }
 ],
 "metadata": {
  "kernelspec": {
   "display_name": "Python 3 (ipykernel)",
   "language": "python",
   "name": "python3"
  },
  "language_info": {
   "codemirror_mode": {
    "name": "ipython",
    "version": 3
   },
   "file_extension": ".py",
   "mimetype": "text/x-python",
   "name": "python",
   "nbconvert_exporter": "python",
   "pygments_lexer": "ipython3",
   "version": "3.9.13"
  }
 },
 "nbformat": 4,
 "nbformat_minor": 5
}
